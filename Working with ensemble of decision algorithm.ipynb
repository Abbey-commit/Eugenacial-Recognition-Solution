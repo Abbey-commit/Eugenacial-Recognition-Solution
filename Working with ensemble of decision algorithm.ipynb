{
 "cells": [
  {
   "cell_type": "markdown",
   "metadata": {},
   "source": [
    "### Random forests information\n",
    "\n",
    "Using digit dataset for our example like the one we could use for support Vector Classifier."
   ]
  },
  {
   "cell_type": "code",
   "execution_count": 1,
   "metadata": {},
   "outputs": [],
   "source": [
    "import numpy as np\n",
    "from sklearn import datasets\n",
    "from sklearn.model_selection import validation_curve\n",
    "from sklearn.ensemble import RandomForestClassifier"
   ]
  },
  {
   "cell_type": "code",
   "execution_count": 2,
   "metadata": {},
   "outputs": [],
   "source": [
    "digits = datasets.load_digits()\n",
    "X, y = digits.data, digits.target"
   ]
  },
  {
   "cell_type": "code",
   "execution_count": 3,
   "metadata": {},
   "outputs": [],
   "source": [
    "series = [10, 25, 50, 100, 150, 200, 250, 300]\n",
    "rf = RandomForestClassifier(random_state=101)\n",
    "train_scores, test_scores = validation_curve(rf, \n",
    "                                            X, y, 'n_estimators', param_range=series, \n",
    "                                            cv=10, scoring='accuracy', n_jobs=1)"
   ]
  },
  {
   "cell_type": "code",
   "execution_count": 4,
   "metadata": {},
   "outputs": [
    {
     "data": {
      "image/png": "[encoded data removed]",
      "text/plain": [
       "<Figure size 432x288 with 1 Axes>"
      ]
     },
     "metadata": {
      "needs_background": "light"
     },
     "output_type": "display_data"
    }
   ],
   "source": [
    "import matplotlib.pyplot as plt\n",
    "%matplotlib inline\n",
    "\n",
    "plt.figure()\n",
    "plt.plot(series, np.mean(test_scores, axis=1), '-o')\n",
    "plt.xlabel('number of trees')\n",
    "plt.ylabel('accuracy')\n",
    "plt.grid()\n",
    "plt.show()"
   ]
  },
  {
   "cell_type": "markdown",
   "metadata": {},
   "source": [
    "# The folllowing example leverages the bagging function provided by sklearn to determine whether decision trees, perceptron, or knn algorithm is for handwritten digit recognition"
   ]
  },
  {
   "cell_type": "code",
   "execution_count": 5,
   "metadata": {},
   "outputs": [],
   "source": [
    "import numpy as np\n",
    "from sklearn.ensemble import AdaBoostClassifier\n",
    "from sklearn.tree import DecisionTreeClassifier\n",
    "from sklearn.linear_model import Perceptron\n",
    "from sklearn.naive_bayes import BernoulliNB\n",
    "from sklearn import datasets"
   ]
  },
  {
   "cell_type": "code",
   "execution_count": 12,
   "metadata": {},
   "outputs": [],
   "source": [
    "from sklearn.model_selection import cross_val_score"
   ]
  },
  {
   "cell_type": "code",
   "execution_count": 13,
   "metadata": {},
   "outputs": [],
   "source": [
    "digits = datasets.load_digits()\n",
    "X, y = digits.data, digits.target"
   ]
  },
  {
   "cell_type": "code",
   "execution_count": 36,
   "metadata": {},
   "outputs": [],
   "source": [
    "DT = cross_val_score(AdaBoostClassifier(\n",
    "        DecisionTreeClassifier(),\n",
    "        random_state=0), X, y,\n",
    "        scoring='accuracy', cv=9)"
   ]
  },
  {
   "cell_type": "code",
   "execution_count": 37,
   "metadata": {},
   "outputs": [],
   "source": [
    "P = cross_val_score(AdaBoostClassifier(\n",
    "        Perceptron(), random_state=0,\n",
    "        algorithm='SAMME'), X, y,\n",
    "        scoring='accuracy', cv=6)"
   ]
  },
  {
   "cell_type": "code",
   "execution_count": 38,
   "metadata": {},
   "outputs": [],
   "source": [
    "NB = cross_val_score(AdaBoostClassifier(\n",
    "        BernoulliNB(), random_state=0),\n",
    "        X, y, scoring='accuracy', cv=6)"
   ]
  },
  {
   "cell_type": "code",
   "execution_count": 39,
   "metadata": {},
   "outputs": [
    {
     "name": "stdout",
     "output_type": "stream",
     "text": [
      "Decision trees: 0.819\n",
      "Perceptron: 0.904\n",
      "Naive Bayes: 0.784\n"
     ]
    }
   ],
   "source": [
    "print('Decision trees: %0.3f\\nPerceptron: %0.3f\\n'\n",
    "     \"Naive Bayes: %0.3f\" %\n",
    "     (np.mean(DT), np.mean(P), np.mean(NB)))"
   ]
  },
  {
   "cell_type": "markdown",
   "metadata": {},
   "source": [
    "##### I tried to reduced the number of the croos validation using different numbers for all of them at the same time, and I got less performance from their output. But among the three of them, Perceptron was coming up at the top irrespective of the number that is set for random state for each of them."
   ]
  },
  {
   "cell_type": "markdown",
   "metadata": {},
   "source": [
    "## Still ensemble operations, but using GBM(Gradient Boosting Machine) which determines the weights that's right learning in ensemble. So now we go ahead and try to use it to see how it works using a text digit dataset in performing classification operation."
   ]
  },
  {
   "cell_type": "code",
   "execution_count": 41,
   "metadata": {},
   "outputs": [],
   "source": [
    "from sklearn.ensemble import GradientBoostingClassifier"
   ]
  },
  {
   "cell_type": "code",
   "execution_count": 44,
   "metadata": {},
   "outputs": [
    {
     "name": "stdout",
     "output_type": "stream",
     "text": [
      "GBM: 0.948\n"
     ]
    }
   ],
   "source": [
    "GBM = cross_val_score(\n",
    "        GradientBoostingClassifier(n_estimators=300,\n",
    "                                  subsample=0.8, \n",
    "                                  max_depth=2, learning_rate=0.1,\n",
    "                                  random_state=101), X, y, scoring='accuracy', cv=10)\n",
    "\n",
    "print(\"GBM: %0.3f\" % (np.mean(GBM)))"
   ]
  },
  {
   "cell_type": "markdown",
   "metadata": {},
   "source": [
    "###### This is the end of this exercise section that focus on the ensemble methodologies using the same machine learning algorithms used both for averaging and voting system and they also work fine if they are used as mixed of different machine learning algorithms. Though averaging approach is the main focus in this exercise.\n",
    "\n",
    "###### Using different machine learning we tried to learn from data and in the process it is very importance to check and see if it's necessary to put some of them successfully into ensembles using prediction averages or counting the predicted classes."
   ]
  },
  {
   "cell_type": "code",
   "execution_count": null,
   "metadata": {},
   "outputs": [],
   "source": []
  }
 ],
 "metadata": {
  "kernelspec": {
   "display_name": "Python 3",
   "language": "python",
   "name": "python3"
  },
  "language_info": {
   "codemirror_mode": {
    "name": "ipython",
    "version": 3
   },
   "file_extension": ".py",
   "mimetype": "text/x-python",
   "name": "python",
   "nbconvert_exporter": "python",
   "pygments_lexer": "ipython3",
   "version": "3.7.6"
  }
 },
 "nbformat": 4,
 "nbformat_minor": 4
}
